{
  "nbformat": 4,
  "nbformat_minor": 0,
  "metadata": {
    "colab": {
      "provenance": [],
      "authorship_tag": "ABX9TyOzqc4yLWiMh6mjjZamfLfQ",
      "include_colab_link": true
    },
    "kernelspec": {
      "name": "python3",
      "display_name": "Python 3"
    },
    "language_info": {
      "name": "python"
    }
  },
  "cells": [
    {
      "cell_type": "markdown",
      "metadata": {
        "id": "view-in-github",
        "colab_type": "text"
      },
      "source": [
        "<a href=\"https://colab.research.google.com/github/Veruskamc/Desafio_01/blob/main/Desafio01_FAST.ipynb\" target=\"_parent\"><img src=\"https://colab.research.google.com/assets/colab-badge.svg\" alt=\"Open In Colab\"/></a>"
      ]
    },
    {
      "cell_type": "markdown",
      "source": [
        "Desafios- Fast Transição\n",
        "Desafio 1\n",
        "Neste desafio, você vai criar um sistema simples de gerenciamento de registros de alunos. Este projeto envolverá a criação de um aplicativo de linha de comando que permite aos usuários realizar diversas operações relacionadas aos registros dos alunos.\n",
        "\n",
        "Seguem aqui os requisitos do projeto:\n",
        "\n",
        "Guia das funcionalidades :\n",
        "\n",
        "1 Adicionar um novo registro de estudante (nome, ID e notas). Receba primeiro o nome do estudante, em seguida seu ID e logo após suas notas separadas por espaço.\n",
        "\n",
        "2 Exibir uma lista de todos os registros de estudantes. Imprima no console as informações dos estudantes.\n",
        "\n",
        "3 Procurar um estudante pelo seu ID e exibir seu registro. Obtenha da entrada um ID válido, busque e exiba as informações do estudante com o ID informado, informe também caso o ID não seja encontrado.\n",
        "\n",
        "4 Calcular e exibir a média de notas de todos os estudantes. Calcule e imprima a média de todas as notas dos estudantes.\n",
        "\n",
        "5 Salvar os registros de estudantes em um arquivo de texto. Escolha um formato para salvar o arquivo com as informações; dica: separe cada informação com um delimitador (uma vírgula por exemplo) e um estudante por linha.\n",
        "\n",
        "6 Carregar os registros de estudantes de um arquivo de texto. Com o arquivo salvo no formato da funcionalidade 5, você fará a leitura do arquivo e armazenará esses dados para as demais funcionalidades.\n",
        "\n",
        "[2]\n"
      ],
      "metadata": {
        "id": "CIHrGlFZa5QX"
      }
    },
    {
      "cell_type": "code",
      "source": [],
      "metadata": {
        "id": "TdDAERTta1Ds"
      },
      "execution_count": null,
      "outputs": []
    },
    {
      "cell_type": "code",
      "source": [
        "registros = []\n",
        "\n",
        "def adicionar_registro():\n",
        "    nome = input(\"Nome do aluno: \")\n",
        "    idade = input(\"Idade do aluno: \")\n",
        "    curso = input(\"Curso do aluno: \")\n",
        "    notas = input(\"Notas (separe com espaço): \").split(' ')\n",
        "    aluno = {'Nome': nome, 'Idade': idade, 'Curso': curso, 'Notas': [float(nota) for nota in notas]}\n",
        "    registros.append(aluno)\n",
        "    print(\"Registro adicionado com sucesso!\")\n",
        "\n",
        "def listar_registros():\n",
        "    for i, aluno in enumerate(registros, start=1):\n",
        "        print(f\"ID: {i}, Nome: {aluno['Nome']}, Idade: {aluno['Idade']}, Curso: {aluno['Curso']}, Notas: {', '.join(map(str, aluno['Notas']))}\")\n",
        "\n",
        "def procurar_registro():\n",
        "    aluno_id = int(input(\"Digite o ID do aluno que deseja procurar: \"))\n",
        "    aluno = registros[aluno_id - 1]\n",
        "    if aluno:\n",
        "        print(f\"ID: {aluno_id}, Nome: {aluno['Nome']}, Idade: {aluno['Idade']}, Curso: {aluno['Curso']}\")\n",
        "    else:\n",
        "        print(\"Aluno não encontrado.\")\n",
        "\n",
        "\n",
        "def calcular_media_notas():\n",
        "    notas = [nota for aluno in registros for nota in aluno['Notas']]\n",
        "    if notas:\n",
        "        media = sum(notas) / len(notas)\n",
        "        print(f\"Média de notas de todos os estudantes: {media}\")\n",
        "    else:\n",
        "        print(\"Nenhuma nota encontrada.\")\n",
        "\n",
        "def salvar_registros():\n",
        "    try:\n",
        "        with open(\"registros_alunos.txt\", \"w\") as arquivo:\n",
        "            for aluno in registros:\n",
        "                linha = f\"{aluno['Nome']},{aluno['Idade']},{aluno['Curso']},{','.join(map(str, aluno['Notas']))}\\n\"\n",
        "                arquivo.write(linha)\n",
        "        print(\"Registros salvos no arquivo 'registros_alunos.txt'.\")\n",
        "    except Exception as e:\n",
        "        print(f\"Ocorreu um erro ao salvar os registros: {e}\")\n",
        "\n",
        "def carregar_registros():\n",
        "    try:\n",
        "        with open(\"registros_alunos.txt\", \"r\") as arquivo:\n",
        "            registros.clear()\n",
        "            for linha in arquivo:\n",
        "                dados = linha.strip().split(',')\n",
        "                nome, idade, curso, notas = dados[0], dados[1], dados[2], list(map(float, dados[3].split(',')))\n",
        "                aluno = {'Nome': nome, 'Idade': idade, 'Curso': curso, 'Notas': notas}\n",
        "                registros.append(aluno)\n",
        "        print(\"Registros carregados do arquivo 'registros_alunos.txt'.\")\n",
        "    except Exception as e:\n",
        "        print(f\"Ocorreu um erro ao carregar os registros: {e}\")\n",
        "\n",
        "def menu():\n",
        "    while True:\n",
        "        print(\"\\nSistema de Gerenciamento de Registros de Estudantes\\n\")\n",
        "        print(\"1. ADICIONAR REGISTRO\")\n",
        "        print(\"2. LISTAR REGISTROS\")\n",
        "        print(\"3. BUSCAR REGISTROS\")\n",
        "        print(\"4. CALCULAR MÉDIA GERAL\")\n",
        "        print(\"5. SALVAR REGISTROS EM ARQUIVO\")\n",
        "        print(\"6. CARREGAR REGISTROS EM ARQUIVO\")\n",
        "        print(\"7. SAIR\")\n",
        "        escolha = input(\"\\nOlá! Escolha uma opção: \")\n",
        "\n",
        "        if escolha == '1':\n",
        "            adicionar_registro()\n",
        "        elif escolha == '2':\n",
        "            listar_registros()\n",
        "        elif escolha == '3':\n",
        "            procurar_registro()\n",
        "        elif escolha == '4':\n",
        "            calcular_media_notas()\n",
        "        elif escolha == '5':\n",
        "            salvar_registros()\n",
        "        elif escolha == '6':\n",
        "            carregar_registros()\n",
        "        elif escolha == '7':\n",
        "            print('Saindo...')\n",
        "            print('Até logo!')\n",
        "            break\n",
        "        else:\n",
        "            print(\"Opção inválida. Tente novamente.\")\n",
        "\n",
        "if __name__ == \"__main__\":\n",
        "    menu()\n"
      ],
      "metadata": {
        "id": "qPZC6maHRtZl"
      },
      "execution_count": null,
      "outputs": []
    }
  ]
}